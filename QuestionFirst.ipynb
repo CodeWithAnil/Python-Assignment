{
 "cells": [
  {
   "cell_type": "code",
   "execution_count": 32,
   "id": "220a6906",
   "metadata": {},
   "outputs": [],
   "source": [
    "import json"
   ]
  },
  {
   "cell_type": "code",
   "execution_count": 35,
   "id": "ba1103fb",
   "metadata": {},
   "outputs": [],
   "source": [
    "dataString ={\n",
    "  \"name\": \"Python Training\",\n",
    "  \"date\": \"April 19, 2024\",\n",
    "  \"completed\": True,\n",
    "  \"instructor\": {\n",
    "   \"name\": \"XYZ\",\n",
    "   \"website\": \"http://pqr.com/\"\n",
    "  },\n",
    "  \"participants\": [\n",
    "    {\n",
    "      \"name\": \"Participant 1\",\n",
    "      \"email\": \"email1@example.com\"\n",
    "    },\n",
    "    {\n",
    "      \"name\": \"Participant 2\",\n",
    "      \"email\": \"email2@example.com\"\n",
    "    }\n",
    "  ]\n",
    "}\n",
    "# Converting to JSON string\n",
    "jsonData = json.dumps(dataString)\n"
   ]
  },
  {
   "cell_type": "code",
   "execution_count": 36,
   "id": "a939f616",
   "metadata": {},
   "outputs": [
    {
     "name": "stdout",
     "output_type": "stream",
     "text": [
      "Python Training\n",
      "True\n",
      "XYZ\n",
      "Participant 1 email1@example.com\n",
      "Participant 2 email2@example.com\n"
     ]
    }
   ],
   "source": [
    "# Converting to dictionary\n",
    "data = json.loads(jsonData)\n",
    "data\n",
    "session_name = data[\"name\"]\n",
    "print(session_name)\n",
    "is_completed = data[\"completed\"]\n",
    "print(is_completed)\n",
    "\n",
    "instructor_name = data[\"instructor\"][\"name\"]\n",
    "print(instructor_name)\n",
    "\n",
    "for participant in data[\"participants\"]:\n",
    "  print(participant[\"name\"], participant[\"email\"])\n",
    "\n",
    "#changing\n",
    "data[\"completed\"] = False\n",
    "\n"
   ]
  },
  {
   "cell_type": "code",
   "execution_count": 5,
   "id": "fa2a4212",
   "metadata": {},
   "outputs": [
    {
     "name": "stdout",
     "output_type": "stream",
     "text": [
      "{'name': 'Python Training', 'date': 'April 19, 2024', 'completed': True, 'instructor': {'name': 'XYZ', 'website': 'http://pqr.com/'}, 'participants': [{'name': 'Participant 1', 'email': 'email1@example.com'}, {'name': 'Participant 2', 'email': 'email2@example.com'}]}\n"
     ]
    }
   ],
   "source": [
    "print(d)"
   ]
  },
  {
   "cell_type": "code",
   "execution_count": null,
   "id": "2a29ec43",
   "metadata": {},
   "outputs": [],
   "source": []
  }
 ],
 "metadata": {
  "kernelspec": {
   "display_name": "Python 3 (ipykernel)",
   "language": "python",
   "name": "python3"
  },
  "language_info": {
   "codemirror_mode": {
    "name": "ipython",
    "version": 3
   },
   "file_extension": ".py",
   "mimetype": "text/x-python",
   "name": "python",
   "nbconvert_exporter": "python",
   "pygments_lexer": "ipython3",
   "version": "3.11.2"
  }
 },
 "nbformat": 4,
 "nbformat_minor": 5
}
